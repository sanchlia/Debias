{
 "cells": [
  {
   "cell_type": "code",
   "execution_count": 23,
   "metadata": {},
   "outputs": [],
   "source": [
    "noise = ['balanced', 'bias', 'flip']\n",
    "level = ['0.1','0.3']\n",
    "dataset = ['income', 'compas', 'adult', 'synthetic_20']\n",
    "shifts = [ '0.5_1.5','0.25_1.1','1_2']"
   ]
  },
  {
   "cell_type": "code",
   "execution_count": 3,
   "metadata": {},
   "outputs": [],
   "source": [
    "import os\n",
    "import shutil"
   ]
  },
  {
   "cell_type": "code",
   "execution_count": 24,
   "metadata": {},
   "outputs": [],
   "source": [
    "base_path = '/Users/sauravanchlia/Fair_ML/Projects/debias_shift/Debias/data/covariate_shifted_data/semi_synthetic'\n",
    "for sh in shifts:\n",
    "    for n in noise:\n",
    "        for l in level:\n",
    "            for ds in dataset:\n",
    "                # for f in ['train_ids.csv', 'test_ids.csv', 'valid_ids.csv']:\n",
    "                try:\n",
    "                    new_path = os.path.join(base_path, sh, n, l, ds)\n",
    "                    old_path = os.path.join(base_path, sh, ds, n, l)\n",
    "                    if os.path.exists(old_path):\n",
    "                        shutil.copytree(old_path, new_path)\n",
    "                    else:\n",
    "                        print(f'{old_path=} does not exist')\n",
    "                except FileExistsError:\n",
    "                    continue\n",
    "                except FileNotFoundError as fe:\n",
    "                    print(f'{fe=} , {old_path=}')\n",
    "                    continue\n"
   ]
  }
 ],
 "metadata": {
  "kernelspec": {
   "display_name": "Python 3",
   "language": "python",
   "name": "python3"
  },
  "language_info": {
   "codemirror_mode": {
    "name": "ipython",
    "version": 3
   },
   "file_extension": ".py",
   "mimetype": "text/x-python",
   "name": "python",
   "nbconvert_exporter": "python",
   "pygments_lexer": "ipython3",
   "version": "3.11.5"
  },
  "orig_nbformat": 4,
  "vscode": {
   "interpreter": {
    "hash": "b0fa6594d8f4cbf19f97940f81e996739fb7646882a419484c72d19e05852a7e"
   }
  }
 },
 "nbformat": 4,
 "nbformat_minor": 2
}
